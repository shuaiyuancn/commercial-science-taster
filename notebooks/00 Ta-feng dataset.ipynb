{
 "cells": [
  {
   "cell_type": "code",
   "execution_count": 1,
   "metadata": {
    "collapsed": false
   },
   "outputs": [],
   "source": [
    "import os\n",
    "\n",
    "import pandas as pd\n",
    "import numpy as np\n",
    "import matplotlib.pyplot as plt\n",
    "\n",
    "import seaborn"
   ]
  },
  {
   "cell_type": "code",
   "execution_count": 41,
   "metadata": {
    "collapsed": true
   },
   "outputs": [],
   "source": [
    "%matplotlib inline"
   ]
  },
  {
   "cell_type": "code",
   "execution_count": 62,
   "metadata": {
    "collapsed": false
   },
   "outputs": [],
   "source": [
    "font = {'family' : 'monospace',\n",
    "        'weight' : 'bold',\n",
    "        'size'   : 14}\n",
    "\n",
    "plt.rc('font', **font)\n",
    "plt.rc('figure', figsize=(18, 6))"
   ]
  },
  {
   "cell_type": "code",
   "execution_count": 2,
   "metadata": {
    "collapsed": true
   },
   "outputs": [],
   "source": [
    "os.chdir('../datasets/ta-feng/')"
   ]
  },
  {
   "cell_type": "markdown",
   "metadata": {},
   "source": [
    "### Ta-feng dataset\n",
    "\n",
    "http://recsyswiki.com/wiki/Grocery_shopping_datasets\n",
    "\n",
    "http://www.bigdatalab.ac.cn/benchmark/bm/dd?data=Ta-Feng"
   ]
  },
  {
   "cell_type": "markdown",
   "metadata": {},
   "source": [
    "#### It contains these files\n",
    "\n",
    "D11: Transaction data collected in November, 2000\n",
    "\n",
    "D12: Transaction data collected in December, 2000\n",
    "\n",
    "D01: Transaction data collected in January, 2001\n",
    "\n",
    "D02: Transaction data collected in February, 2001\n",
    "\n",
    "#### Format of Transaction Data\n",
    "\n",
    "First line: Column definition in Traditional Chinese\n",
    "\n",
    "Second line and the rest: data columns separated by \";\"\n",
    "\n",
    "#### Column definition\n",
    "\n",
    "Transaction date and time (time invalid and useless)\n",
    "\n",
    "Customer ID\n",
    "\n",
    "Age, 10 possible values: `A <25, B 25-29, C 30-34, D 35-39, E 40-44, F 45-49, G 50-54, H 55-59, I 60-64, J >65`\n",
    "\n",
    "Residence Area, 8 possible values: A-F: zipcode area: 105,106,110,114,115,221, G: others, H: Unknown Distance to store.\n",
    "(From the closest: 115,221,114,105,106,110)\n",
    "\n",
    "Product subclass\n",
    "\n",
    "Product ID\n",
    "\n",
    "Amount\n",
    "\n",
    "Asset\n",
    "\n",
    "Sales price"
   ]
  },
  {
   "cell_type": "code",
   "execution_count": 3,
   "metadata": {
    "collapsed": false
   },
   "outputs": [
    {
     "data": {
      "text/plain": [
       "['D01', 'D02', 'D11', 'D12']"
      ]
     },
     "execution_count": 3,
     "metadata": {},
     "output_type": "execute_result"
    }
   ],
   "source": [
    "os.listdir('.')"
   ]
  },
  {
   "cell_type": "code",
   "execution_count": 36,
   "metadata": {
    "collapsed": true
   },
   "outputs": [],
   "source": [
    "header = [\n",
    "    'day', 'customer_id', 'age_group', 'residence_area', 'product_subclass', 'product_id', 'amount', 'asset', 'sales_price'\n",
    "]"
   ]
  },
  {
   "cell_type": "code",
   "execution_count": 37,
   "metadata": {
    "collapsed": false
   },
   "outputs": [],
   "source": [
    "full = pd.DataFrame(columns=header)\n",
    "\n",
    "for fn in os.listdir('.'):\n",
    "    full = pd.concat(\n",
    "        [full, pd.read_csv(fn, sep=';', \n",
    "                           parse_dates=['day'], \n",
    "                           index_col=False, \n",
    "                           header=0, names=header)]  # overwrite the header\n",
    "    )\n",
    "    "
   ]
  },
  {
   "cell_type": "code",
   "execution_count": 38,
   "metadata": {
    "collapsed": false
   },
   "outputs": [
    {
     "data": {
      "text/html": [
       "<div>\n",
       "<table border=\"1\" class=\"dataframe\">\n",
       "  <thead>\n",
       "    <tr style=\"text-align: right;\">\n",
       "      <th></th>\n",
       "      <th>day</th>\n",
       "      <th>customer_id</th>\n",
       "      <th>age_group</th>\n",
       "      <th>residence_area</th>\n",
       "      <th>product_subclass</th>\n",
       "      <th>product_id</th>\n",
       "      <th>amount</th>\n",
       "      <th>asset</th>\n",
       "      <th>sales_price</th>\n",
       "    </tr>\n",
       "  </thead>\n",
       "  <tbody>\n",
       "    <tr>\n",
       "      <th>0</th>\n",
       "      <td>2001-01-01</td>\n",
       "      <td>141833</td>\n",
       "      <td>F</td>\n",
       "      <td>F</td>\n",
       "      <td>130207</td>\n",
       "      <td>4.710105e+12</td>\n",
       "      <td>2</td>\n",
       "      <td>44</td>\n",
       "      <td>52</td>\n",
       "    </tr>\n",
       "    <tr>\n",
       "      <th>1</th>\n",
       "      <td>2001-01-01</td>\n",
       "      <td>1376753</td>\n",
       "      <td>E</td>\n",
       "      <td>E</td>\n",
       "      <td>110217</td>\n",
       "      <td>4.710266e+12</td>\n",
       "      <td>1</td>\n",
       "      <td>150</td>\n",
       "      <td>129</td>\n",
       "    </tr>\n",
       "    <tr>\n",
       "      <th>2</th>\n",
       "      <td>2001-01-01</td>\n",
       "      <td>1603071</td>\n",
       "      <td>E</td>\n",
       "      <td>G</td>\n",
       "      <td>100201</td>\n",
       "      <td>4.712019e+12</td>\n",
       "      <td>1</td>\n",
       "      <td>35</td>\n",
       "      <td>39</td>\n",
       "    </tr>\n",
       "    <tr>\n",
       "      <th>3</th>\n",
       "      <td>2001-01-01</td>\n",
       "      <td>1738667</td>\n",
       "      <td>E</td>\n",
       "      <td>F</td>\n",
       "      <td>530105</td>\n",
       "      <td>4.710169e+12</td>\n",
       "      <td>1</td>\n",
       "      <td>94</td>\n",
       "      <td>119</td>\n",
       "    </tr>\n",
       "    <tr>\n",
       "      <th>4</th>\n",
       "      <td>2001-01-01</td>\n",
       "      <td>2141497</td>\n",
       "      <td>A</td>\n",
       "      <td>B</td>\n",
       "      <td>320407</td>\n",
       "      <td>4.710431e+12</td>\n",
       "      <td>1</td>\n",
       "      <td>100</td>\n",
       "      <td>159</td>\n",
       "    </tr>\n",
       "  </tbody>\n",
       "</table>\n",
       "</div>"
      ],
      "text/plain": [
       "         day  customer_id age_group residence_area  product_subclass  \\\n",
       "0 2001-01-01       141833        F              F             130207   \n",
       "1 2001-01-01      1376753        E              E             110217   \n",
       "2 2001-01-01      1603071        E              G             100201   \n",
       "3 2001-01-01      1738667        E              F             530105   \n",
       "4 2001-01-01      2141497        A              B             320407   \n",
       "\n",
       "     product_id  amount  asset  sales_price  \n",
       "0  4.710105e+12       2     44           52  \n",
       "1  4.710266e+12       1    150          129  \n",
       "2  4.712019e+12       1     35           39  \n",
       "3  4.710169e+12       1     94          119  \n",
       "4  4.710431e+12       1    100          159  "
      ]
     },
     "execution_count": 38,
     "metadata": {},
     "output_type": "execute_result"
    }
   ],
   "source": [
    "full.head()"
   ]
  },
  {
   "cell_type": "markdown",
   "metadata": {},
   "source": [
    "### Distribution of the dataset"
   ]
  },
  {
   "cell_type": "code",
   "execution_count": 84,
   "metadata": {
    "collapsed": false
   },
   "outputs": [
    {
     "data": {
      "text/plain": [
       "<Container object of 120 artists>"
      ]
     },
     "execution_count": 84,
     "metadata": {},
     "output_type": "execute_result"
    },
    {
     "data": {
      "image/png": "[encoded data removed]",
      "text/plain": [
       "<matplotlib.figure.Figure at 0xafeb710>"
      ]
     },
     "metadata": {},
     "output_type": "display_data"
    }
   ],
   "source": [
    "vc = full['day'].value_counts()\n",
    "\n",
    "plt.bar(\n",
    "    vc.index, vc.values, align='center'\n",
    ")"
   ]
  },
  {
   "cell_type": "markdown",
   "metadata": {},
   "source": [
    "Public holidays in the period:\n",
    "\n",
    "- New year: 30/12/2000 - 1/1/2001\n",
    "\n",
    "- Spring festival: 24/1 - 28/1/2001\n",
    "\n",
    "Note:\n",
    "\n",
    "- Some thing happened from 19/12 to 25/12/2000\n",
    "\n",
    "- Spring festival increased sales"
   ]
  },
  {
   "cell_type": "code",
   "execution_count": 74,
   "metadata": {
    "collapsed": false
   },
   "outputs": [
    {
     "data": {
      "text/plain": [
       "<Container object of 11 artists>"
      ]
     },
     "execution_count": 74,
     "metadata": {},
     "output_type": "execute_result"
    },
    {
     "data": {
      "image/png": "[encoded data removed]",
      "text/plain": [
       "<matplotlib.figure.Figure at 0x1504e0f0>"
      ]
     },
     "metadata": {},
     "output_type": "display_data"
    }
   ],
   "source": [
    "vc = full['age_group'].value_counts().sort_index()\n",
    "\n",
    "plt.bar(\n",
    "    range(len(vc.index)), vc.values, tick_label=vc.index, align='center'\n",
    ")"
   ]
  },
  {
   "cell_type": "code",
   "execution_count": 85,
   "metadata": {
    "collapsed": false
   },
   "outputs": [
    {
     "data": {
      "text/plain": [
       "<Container object of 8 artists>"
      ]
     },
     "execution_count": 85,
     "metadata": {},
     "output_type": "execute_result"
    },
    {
     "data": {
      "image/png": "[encoded data removed]",
      "text/plain": [
       "<matplotlib.figure.Figure at 0xc5d1518>"
      ]
     },
     "metadata": {},
     "output_type": "display_data"
    }
   ],
   "source": [
    "vc = full['residence_area'].value_counts().sort_index()\n",
    "\n",
    "plt.bar(\n",
    "    range(len(vc.index)), vc.values, tick_label=vc.index, align='center'\n",
    ")"
   ]
  },
  {
   "cell_type": "markdown",
   "metadata": {},
   "source": [
    "Note:\n",
    "\n",
    "- `E` is the closest, then `F`\n",
    "    \n",
    "- `C` is the furthest "
   ]
  },
  {
   "cell_type": "code",
   "execution_count": 200,
   "metadata": {
    "collapsed": false
   },
   "outputs": [
    {
     "data": {
      "text/plain": [
       "<Container object of 120 artists>"
      ]
     },
     "execution_count": 200,
     "metadata": {},
     "output_type": "execute_result"
    },
    {
     "data": {
      "image/png": "[encoded data removed]",
      "text/plain": [
       "<matplotlib.figure.Figure at 0x23f927f0>"
      ]
     },
     "metadata": {},
     "output_type": "display_data"
    }
   ],
   "source": [
    "days = []\n",
    "sales_prices = []\n",
    "\n",
    "for day, data in full.groupby('day'):\n",
    "    total_price = data.sum()['sales_price']\n",
    "    \n",
    "    days.append(day)\n",
    "    sales_prices.append(total_price)\n",
    "\n",
    "plt.bar(\n",
    "    days, sales_prices, align='center'\n",
    ")"
   ]
  },
  {
   "cell_type": "markdown",
   "metadata": {},
   "source": [
    "# Seasonal product recommendation"
   ]
  },
  {
   "cell_type": "markdown",
   "metadata": {},
   "source": [
    "Popular items on the weekly basis"
   ]
  },
  {
   "cell_type": "code",
   "execution_count": 162,
   "metadata": {
    "collapsed": true
   },
   "outputs": [],
   "source": [
    "full['week'] = full['day'].map(\n",
    "    lambda day: day.weekofyear\n",
    ")"
   ]
  },
  {
   "cell_type": "code",
   "execution_count": 180,
   "metadata": {
    "collapsed": true
   },
   "outputs": [],
   "source": [
    "popular_product = {}"
   ]
  },
  {
   "cell_type": "code",
   "execution_count": 181,
   "metadata": {
    "collapsed": true
   },
   "outputs": [],
   "source": [
    "LIMIT = 100"
   ]
  },
  {
   "cell_type": "code",
   "execution_count": 182,
   "metadata": {
    "collapsed": false
   },
   "outputs": [],
   "source": [
    "for week in full['week'].value_counts().index:\n",
    "    df = full[\n",
    "        full['week'] == week\n",
    "    ]\n",
    "    for code, count in df['product_id'].value_counts().head(LIMIT).iteritems():  # result from value_counts() is sorted \n",
    "        try:\n",
    "            popular_product[code].append(\n",
    "                (week, count)\n",
    "            )\n",
    "        except KeyError:\n",
    "            popular_product[code] = [\n",
    "                (week, count)\n",
    "            ]"
   ]
  },
  {
   "cell_type": "markdown",
   "metadata": {},
   "source": [
    "Find the all-time common ones (appearing more than 8 weeks, about 50% of the period)"
   ]
  },
  {
   "cell_type": "code",
   "execution_count": 183,
   "metadata": {
    "collapsed": true
   },
   "outputs": [],
   "source": [
    "FREQ_THRESHOLD_MAX = 8"
   ]
  },
  {
   "cell_type": "code",
   "execution_count": 184,
   "metadata": {
    "collapsed": false
   },
   "outputs": [],
   "source": [
    "all_time_common_products = []\n",
    "\n",
    "for code, data in popular_product.iteritems():\n",
    "    if len(data) > FREQ_THRESHOLD_MAX:\n",
    "        all_time_common_products.append(code)"
   ]
  },
  {
   "cell_type": "markdown",
   "metadata": {},
   "source": [
    "Find the least common ones (appearing just 1 week)"
   ]
  },
  {
   "cell_type": "code",
   "execution_count": 185,
   "metadata": {
    "collapsed": true
   },
   "outputs": [],
   "source": [
    "FREQ_THRESHOLD_MIN = 1"
   ]
  },
  {
   "cell_type": "code",
   "execution_count": 186,
   "metadata": {
    "collapsed": false
   },
   "outputs": [],
   "source": [
    "least_common_products = []\n",
    "\n",
    "for code, data in popular_product.iteritems():\n",
    "    if len(data) == FREQ_THRESHOLD_MIN:\n",
    "        least_common_products.append(code)"
   ]
  },
  {
   "cell_type": "code",
   "execution_count": 187,
   "metadata": {
    "collapsed": false
   },
   "outputs": [
    {
     "data": {
      "image/png": "[encoded data removed]",
      "text/plain": [
       "<matplotlib.figure.Figure at 0x2400b1d0>"
      ]
     },
     "metadata": {},
     "output_type": "display_data"
    }
   ],
   "source": [
    "ax = plt.gca()\n",
    "\n",
    "for code, data in popular_product.iteritems():\n",
    "    if code not in all_time_common_products and code not in least_common_products:\n",
    "        ax.plot(\n",
    "            [it[0] for it in data],\n",
    "            [it[1] for it in data],\n",
    "            '.'\n",
    "        )"
   ]
  },
  {
   "cell_type": "markdown",
   "metadata": {},
   "source": [
    "Recommendation for the Spring festival"
   ]
  },
  {
   "cell_type": "code",
   "execution_count": 188,
   "metadata": {
    "collapsed": false
   },
   "outputs": [],
   "source": [
    "start = pd.Timestamp('2001-01-18')\n",
    "end = pd.Timestamp('2001-01-24')"
   ]
  },
  {
   "cell_type": "code",
   "execution_count": 189,
   "metadata": {
    "collapsed": false
   },
   "outputs": [],
   "source": [
    "pre_spring_festival = full[\n",
    "    (start < full['day']) & (full['day'] < end)\n",
    "]"
   ]
  },
  {
   "cell_type": "code",
   "execution_count": 190,
   "metadata": {
    "collapsed": false
   },
   "outputs": [
    {
     "name": "stdout",
     "output_type": "stream",
     "text": [
      "74613 out of 817741 occured in the Pre Spring festival period\n"
     ]
    }
   ],
   "source": [
    "print '{} out of {} occured in the Pre Spring festival period'.format(\n",
    "    len(pre_spring_festival), len(full)\n",
    ")    "
   ]
  },
  {
   "cell_type": "code",
   "execution_count": 193,
   "metadata": {
    "collapsed": true
   },
   "outputs": [],
   "source": [
    "FREQ_THRESHOLD_SPRING_FESTIVAL = 100"
   ]
  },
  {
   "cell_type": "code",
   "execution_count": 199,
   "metadata": {
    "collapsed": false
   },
   "outputs": [
    {
     "name": "stdout",
     "output_type": "stream",
     "text": [
      "4710174053691, 308\n",
      "4901550332077, 257\n",
      "4710466101130, 240\n",
      "4710043552102, 237\n",
      "4710018004704, 236\n",
      "4710154015206, 230\n",
      "4710943101318, 212\n",
      "4713327005035, 197\n",
      "4710022101208, 192\n",
      "4710085120093, 173\n",
      "4710908111116, 166\n",
      "4710128030037, 158\n",
      "4710036012019, 151\n",
      "4712697490816, 149\n",
      "4710084225676, 149\n",
      "719859796117, 148\n",
      "723125485032, 146\n",
      "4710085172696, 144\n",
      "4014400901573, 144\n",
      "4710321790509, 143\n",
      "4713754987614, 142\n",
      "4711022100017, 142\n",
      "4710254049323, 141\n",
      "4711258001256, 138\n",
      "4710265847666, 137\n",
      "7231254880206, 136\n",
      "4711258004004, 131\n",
      "4710046021100, 125\n",
      "4710011401135, 124\n",
      "4713754987607, 124\n",
      "4934567661519, 120\n",
      "4710011409056, 115\n",
      "4710154620264, 113\n",
      "723125488033, 112\n",
      "4711258002505, 109\n",
      "4710174018195, 109\n",
      "4710174011790, 107\n",
      "4901550152484, 104\n"
     ]
    }
   ],
   "source": [
    "for code, count in pre_spring_festival['product_id'].value_counts().iteritems():\n",
    "    if code not in all_time_common_products and \\\n",
    "        code not in least_common_products and \\\n",
    "        count > FREQ_THRESHOLD_SPRING_FESTIVAL:\n",
    "            print '{:.0f}, {}'.format(code, count)"
   ]
  }
 ],
 "metadata": {
  "kernelspec": {
   "display_name": "Python 2",
   "language": "python",
   "name": "python2"
  },
  "language_info": {
   "codemirror_mode": {
    "name": "ipython",
    "version": 2
   },
   "file_extension": ".py",
   "mimetype": "text/x-python",
   "name": "python",
   "nbconvert_exporter": "python",
   "pygments_lexer": "ipython2",
   "version": "2.7.11"
  }
 },
 "nbformat": 4,
 "nbformat_minor": 0
}
