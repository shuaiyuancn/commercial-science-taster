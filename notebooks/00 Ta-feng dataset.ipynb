{
 "cells": [
  {
   "cell_type": "markdown",
   "metadata": {},
   "source": [
    "## TOC\n",
    "\n",
    "- [Ta-feng dataset description](#Ta-feng-dataset)\n",
    "\n",
    "- [Visualise the dataset](#Visualise-the-dataset)\n",
    "\n",
    "- [Customers and transactions forecasting with EWMA](#Customers-and-transactions-prediction)\n",
    "\n",
    "- [Seasonal product recommendation and Outlier detection](#Seasonal-product-recommendation-and-Outlier-detection)\n",
    "\n",
    "- [Purchase prediction](#Purchase-prediction)\n",
    "\n",
    "- [Product recommendation](#Product-recommendation)"
   ]
  },
  {
   "cell_type": "code",
   "execution_count": 109,
   "metadata": {
    "collapsed": false
   },
   "outputs": [],
   "source": [
    "import os\n",
    "\n",
    "import pandas as pd\n",
    "import numpy as np\n",
    "import scipy as sp\n",
    "import matplotlib.pyplot as plt\n",
    "\n",
    "import seaborn"
   ]
  },
  {
   "cell_type": "code",
   "execution_count": 4,
   "metadata": {
    "collapsed": true
   },
   "outputs": [],
   "source": [
    "%matplotlib inline"
   ]
  },
  {
   "cell_type": "code",
   "execution_count": 5,
   "metadata": {
    "collapsed": false
   },
   "outputs": [],
   "source": [
    "font = {'family' : 'monospace',\n",
    "        'weight' : 'bold',\n",
    "        'size'   : 14}\n",
    "\n",
    "plt.rc('font', **font)\n",
    "plt.rc('figure', figsize=(18, 6))"
   ]
  },
  {
   "cell_type": "code",
   "execution_count": 6,
   "metadata": {
    "collapsed": true
   },
   "outputs": [],
   "source": [
    "os.chdir('../datasets/ta-feng/')"
   ]
  },
  {
   "cell_type": "markdown",
   "metadata": {},
   "source": [
    "## Ta-feng dataset\n",
    "\n",
    "http://recsyswiki.com/wiki/Grocery_shopping_datasets\n",
    "\n",
    "http://www.bigdatalab.ac.cn/benchmark/bm/dd?data=Ta-Feng"
   ]
  },
  {
   "cell_type": "markdown",
   "metadata": {},
   "source": [
    "#### It contains these files\n",
    "\n",
    "D11: Transaction data collected in November, 2000\n",
    "\n",
    "D12: Transaction data collected in December, 2000\n",
    "\n",
    "D01: Transaction data collected in January, 2001\n",
    "\n",
    "D02: Transaction data collected in February, 2001\n",
    "\n",
    "#### Format of Transaction Data\n",
    "\n",
    "First line: Column definition in Traditional Chinese\n",
    "\n",
    "Second line and the rest: data columns separated by \";\"\n",
    "\n",
    "#### Column definition\n",
    "\n",
    "Transaction date and time (time invalid and useless)\n",
    "\n",
    "Customer ID\n",
    "\n",
    "Age, 10 possible values: `A <25, B 25-29, C 30-34, D 35-39, E 40-44, F 45-49, G 50-54, H 55-59, I 60-64, J >65`\n",
    "\n",
    "Residence Area, 8 possible values: A-F: zipcode area: 105,106,110,114,115,221, G: others, H: Unknown Distance to store.\n",
    "(From the closest: 115,221,114,105,106,110)\n",
    "\n",
    "Product subclass\n",
    "\n",
    "Product ID\n",
    "\n",
    "Amount\n",
    "\n",
    "Asset\n",
    "\n",
    "Sales price"
   ]
  },
  {
   "cell_type": "code",
   "execution_count": 82,
   "metadata": {
    "collapsed": true
   },
   "outputs": [],
   "source": [
    "header = [\n",
    "    'day', 'customer_id', 'age_group', 'residence_area', 'product_subclass', 'product_id', 'amount', 'asset', 'sales_price'\n",
    "]"
   ]
  },
  {
   "cell_type": "code",
   "execution_count": 83,
   "metadata": {
    "collapsed": false
   },
   "outputs": [],
   "source": [
    "full = pd.DataFrame(columns=header)\n",
    "\n",
    "for fn in ['D01', 'D02', 'D11', 'D12']:\n",
    "    full = pd.concat(\n",
    "        [full, pd.read_csv(fn, sep=';', \n",
    "                           parse_dates=['day'], \n",
    "                           index_col=False, \n",
    "                           header=0, names=header)]  # overwrite the header\n",
    "    )\n",
    "    "
   ]
  },
  {
   "cell_type": "code",
   "execution_count": 9,
   "metadata": {
    "collapsed": false
   },
   "outputs": [
    {
     "data": {
      "text/html": [
       "<div>\n",
       "<table border=\"1\" class=\"dataframe\">\n",
       "  <thead>\n",
       "    <tr style=\"text-align: right;\">\n",
       "      <th></th>\n",
       "      <th>day</th>\n",
       "      <th>customer_id</th>\n",
       "      <th>age_group</th>\n",
       "      <th>residence_area</th>\n",
       "      <th>product_subclass</th>\n",
       "      <th>product_id</th>\n",
       "      <th>amount</th>\n",
       "      <th>asset</th>\n",
       "      <th>sales_price</th>\n",
       "    </tr>\n",
       "  </thead>\n",
       "  <tbody>\n",
       "    <tr>\n",
       "      <th>0</th>\n",
       "      <td>2001-01-01</td>\n",
       "      <td>141833</td>\n",
       "      <td>F</td>\n",
       "      <td>F</td>\n",
       "      <td>130207</td>\n",
       "      <td>4.710105e+12</td>\n",
       "      <td>2</td>\n",
       "      <td>44</td>\n",
       "      <td>52</td>\n",
       "    </tr>\n",
       "    <tr>\n",
       "      <th>1</th>\n",
       "      <td>2001-01-01</td>\n",
       "      <td>1376753</td>\n",
       "      <td>E</td>\n",
       "      <td>E</td>\n",
       "      <td>110217</td>\n",
       "      <td>4.710266e+12</td>\n",
       "      <td>1</td>\n",
       "      <td>150</td>\n",
       "      <td>129</td>\n",
       "    </tr>\n",
       "    <tr>\n",
       "      <th>2</th>\n",
       "      <td>2001-01-01</td>\n",
       "      <td>1603071</td>\n",
       "      <td>E</td>\n",
       "      <td>G</td>\n",
       "      <td>100201</td>\n",
       "      <td>4.712019e+12</td>\n",
       "      <td>1</td>\n",
       "      <td>35</td>\n",
       "      <td>39</td>\n",
       "    </tr>\n",
       "    <tr>\n",
       "      <th>3</th>\n",
       "      <td>2001-01-01</td>\n",
       "      <td>1738667</td>\n",
       "      <td>E</td>\n",
       "      <td>F</td>\n",
       "      <td>530105</td>\n",
       "      <td>4.710169e+12</td>\n",
       "      <td>1</td>\n",
       "      <td>94</td>\n",
       "      <td>119</td>\n",
       "    </tr>\n",
       "    <tr>\n",
       "      <th>4</th>\n",
       "      <td>2001-01-01</td>\n",
       "      <td>2141497</td>\n",
       "      <td>A</td>\n",
       "      <td>B</td>\n",
       "      <td>320407</td>\n",
       "      <td>4.710431e+12</td>\n",
       "      <td>1</td>\n",
       "      <td>100</td>\n",
       "      <td>159</td>\n",
       "    </tr>\n",
       "  </tbody>\n",
       "</table>\n",
       "</div>"
      ],
      "text/plain": [
       "         day  customer_id age_group residence_area  product_subclass  \\\n",
       "0 2001-01-01       141833        F              F             130207   \n",
       "1 2001-01-01      1376753        E              E             110217   \n",
       "2 2001-01-01      1603071        E              G             100201   \n",
       "3 2001-01-01      1738667        E              F             530105   \n",
       "4 2001-01-01      2141497        A              B             320407   \n",
       "\n",
       "     product_id  amount  asset  sales_price  \n",
       "0  4.710105e+12       2     44           52  \n",
       "1  4.710266e+12       1    150          129  \n",
       "2  4.712019e+12       1     35           39  \n",
       "3  4.710169e+12       1     94          119  \n",
       "4  4.710431e+12       1    100          159  "
      ]
     },
     "execution_count": 9,
     "metadata": {},
     "output_type": "execute_result"
    }
   ],
   "source": [
    "full.head()"
   ]
  },
  {
   "cell_type": "markdown",
   "metadata": {},
   "source": [
    "## Visualise the dataset"
   ]
  },
  {
   "cell_type": "markdown",
   "metadata": {},
   "source": [
    "Product sales distribution show a typical long-tail distribution"
   ]
  },
  {
   "cell_type": "code",
   "execution_count": 14,
   "metadata": {
    "collapsed": false
   },
   "outputs": [
    {
     "data": {
      "text/plain": [
       "(0, 500)"
      ]
     },
     "execution_count": 14,
     "metadata": {},
     "output_type": "execute_result"
    },
    {
     "data": {
      "image/png": "[encoded data removed]",
      "text/plain": [
       "<matplotlib.figure.Figure at 0x7f4a68087b50>"
      ]
     },
     "metadata": {},
     "output_type": "display_data"
    }
   ],
   "source": [
    "LIMIT = 500\n",
    "\n",
    "vc = full['product_id'].value_counts().head(LIMIT)\n",
    "\n",
    "lables = vc.index\n",
    "indices = range(len(vc))\n",
    "plt.bar(\n",
    "    indices, vc.values, align='center'\n",
    ")\n",
    "plt.xlim(0, LIMIT)"
   ]
  },
  {
   "cell_type": "markdown",
   "metadata": {},
   "source": [
    "Customers, transactions, and total sales per day"
   ]
  },
  {
   "cell_type": "code",
   "execution_count": 25,
   "metadata": {
    "collapsed": false
   },
   "outputs": [
    {
     "data": {
      "text/plain": [
       "<matplotlib.axes._subplots.AxesSubplot at 0x7f4a51e2be50>"
      ]
     },
     "execution_count": 25,
     "metadata": {},
     "output_type": "execute_result"
    },
    {
     "data": {
      "image/png": "[encoded data removed]",
      "text/plain": [
       "<matplotlib.figure.Figure at 0x7f4a52ede650>"
      ]
     },
     "metadata": {},
     "output_type": "display_data"
    }
   ],
   "source": [
    "# customers by day\n",
    "by_day = pd.DataFrame(\n",
    "    [(day, len(data['customer_id'].value_counts())) for (day, data) in full.groupby('day')],\n",
    "    columns=['day', 'customers']\n",
    ")\n",
    "# transactions by day\n",
    "by_day['transactions'] = pd.Series(\n",
    "    [len(data) for (day, data) in full.groupby('day')]\n",
    ")\n",
    "by_day.index = by_day['day']\n",
    "\n",
    "plt.figure()\n",
    "by_day['customers'].plot(legend=True)\n",
    "by_day['transactions'].plot(secondary_y=True, legend=True)"
   ]
  },
  {
   "cell_type": "markdown",
   "metadata": {},
   "source": [
    "Public holidays in the period:\n",
    "\n",
    "- New year: 30/12/2000 - 1/1/2001\n",
    "\n",
    "- Spring festival: 24/1 - 28/1/2001\n",
    "\n",
    "Note:\n",
    "\n",
    "- Some thing happened from 19/12 to 25/12/2000\n",
    "\n",
    "- Spring festival increased sales"
   ]
  },
  {
   "cell_type": "code",
   "execution_count": 74,
   "metadata": {
    "collapsed": false
   },
   "outputs": [
    {
     "data": {
      "text/plain": [
       "<Container object of 11 artists>"
      ]
     },
     "execution_count": 74,
     "metadata": {},
     "output_type": "execute_result"
    },
    {
     "data": {
      "image/png": "[encoded data removed]",
      "text/plain": [
       "<matplotlib.figure.Figure at 0x1504e0f0>"
      ]
     },
     "metadata": {},
     "output_type": "display_data"
    }
   ],
   "source": [
    "vc = full['age_group'].value_counts().sort_index()\n",
    "\n",
    "plt.bar(\n",
    "    range(len(vc.index)), vc.values, tick_label=vc.index, align='center'\n",
    ")"
   ]
  },
  {
   "cell_type": "code",
   "execution_count": 85,
   "metadata": {
    "collapsed": false
   },
   "outputs": [
    {
     "data": {
      "text/plain": [
       "<Container object of 8 artists>"
      ]
     },
     "execution_count": 85,
     "metadata": {},
     "output_type": "execute_result"
    },
    {
     "data": {
      "image/png": "[encoded data removed]",
      "text/plain": [
       "<matplotlib.figure.Figure at 0xc5d1518>"
      ]
     },
     "metadata": {},
     "output_type": "display_data"
    }
   ],
   "source": [
    "vc = full['residence_area'].value_counts().sort_index()\n",
    "\n",
    "plt.bar(\n",
    "    range(len(vc.index)), vc.values, tick_label=vc.index, align='center'\n",
    ")"
   ]
  },
  {
   "cell_type": "markdown",
   "metadata": {},
   "source": [
    "Note:\n",
    "\n",
    "- `E` is the closest, then `F`\n",
    "    \n",
    "- `C` is the furthest "
   ]
  },
  {
   "cell_type": "markdown",
   "metadata": {},
   "source": [
    "Total sales amount"
   ]
  },
  {
   "cell_type": "code",
   "execution_count": 26,
   "metadata": {
    "collapsed": false
   },
   "outputs": [
    {
     "data": {
      "text/plain": [
       "[<matplotlib.lines.Line2D at 0x7f4a508d7d10>]"
      ]
     },
     "execution_count": 26,
     "metadata": {},
     "output_type": "execute_result"
    },
    {
     "data": {
      "image/png": "[encoded data removed]",
      "text/plain": [
       "<matplotlib.figure.Figure at 0x7f4a529d0b90>"
      ]
     },
     "metadata": {},
     "output_type": "display_data"
    }
   ],
   "source": [
    "days = []\n",
    "sales_prices = []\n",
    "\n",
    "for day, data in full.groupby('day'):\n",
    "    total_price = data.sum()['sales_price']\n",
    "    \n",
    "    days.append(day)\n",
    "    sales_prices.append(total_price)\n",
    "\n",
    "plt.plot(\n",
    "    days, sales_prices\n",
    ")"
   ]
  },
  {
   "cell_type": "markdown",
   "metadata": {},
   "source": [
    "## Customers and transactions prediction"
   ]
  },
  {
   "cell_type": "markdown",
   "metadata": {},
   "source": [
    "Exponentially-weighted moving average with correction"
   ]
  },
  {
   "cell_type": "code",
   "execution_count": 27,
   "metadata": {
    "collapsed": true
   },
   "outputs": [],
   "source": [
    "customers_by_day = pd.DataFrame(\n",
    "    [(day, len(data['customer_id'].value_counts())) for (day, data) in full.groupby('day')],\n",
    "    columns=['day', 'customers']\n",
    ")"
   ]
  },
  {
   "cell_type": "code",
   "execution_count": 33,
   "metadata": {
    "collapsed": false
   },
   "outputs": [
    {
     "data": {
      "text/plain": [
       "<matplotlib.legend.Legend at 0x7f4a4c784690>"
      ]
     },
     "execution_count": 33,
     "metadata": {},
     "output_type": "execute_result"
    },
    {
     "data": {
      "image/png": "[encoded data removed]",
      "text/plain": [
       "<matplotlib.figure.Figure at 0x7f4a4e37d610>"
      ]
     },
     "metadata": {},
     "output_type": "display_data"
    }
   ],
   "source": [
    "regular = pd.ewma(customers_by_day['customers'], halflife=2)\n",
    "reverse = pd.ewma(customers_by_day['customers'][::-1], halflife=2)\n",
    "# the regular EWMA is not good at predicting trends\n",
    "# a shortcut is to average with the reverse series\n",
    "average = (regular + reverse) / 2\n",
    "\n",
    "indices = range(len(customers_by_day))\n",
    "plt.plot(\n",
    "    indices, customers_by_day['customers']\n",
    ")\n",
    "plt.plot(\n",
    "    indices, average, '--', label='with correction'\n",
    ")\n",
    "plt.plot(\n",
    "    indices, regular, '-.', label='without correction'\n",
    ")\n",
    "plt.legend()"
   ]
  },
  {
   "cell_type": "markdown",
   "metadata": {},
   "source": [
    "Create features from `day`"
   ]
  },
  {
   "cell_type": "code",
   "execution_count": 34,
   "metadata": {
    "collapsed": true
   },
   "outputs": [],
   "source": [
    "customers_by_day['day_of_week'] = customers_by_day['day'].map(lambda day: day.dayofweek)\n",
    "customers_by_day['week_of_year'] = customers_by_day['day'].map(lambda day: day.week)\n",
    "customers_by_day['day_of_year'] = customers_by_day['day'].map(lambda day: day.dayofyear)"
   ]
  },
  {
   "cell_type": "code",
   "execution_count": 35,
   "metadata": {
    "collapsed": true
   },
   "outputs": [],
   "source": [
    "customers_by_day = pd.get_dummies(customers_by_day, columns=['day_of_week', 'week_of_year', 'day_of_year'])\n",
    "customers_by_day['ewma'] = average.values\n",
    "del customers_by_day['day']"
   ]
  },
  {
   "cell_type": "markdown",
   "metadata": {},
   "source": [
    "Compare the predictions of models with/without EWMA"
   ]
  },
  {
   "cell_type": "code",
   "execution_count": 36,
   "metadata": {
    "collapsed": true
   },
   "outputs": [],
   "source": [
    "from sklearn import linear_model"
   ]
  },
  {
   "cell_type": "code",
   "execution_count": 39,
   "metadata": {
    "collapsed": false
   },
   "outputs": [
    {
     "name": "stdout",
     "output_type": "stream",
     "text": [
      "with EWMA:\n",
      "0.140768641498\n",
      "\n",
      "without EWMA: \n",
      "-0.545319525643\n",
      "\n"
     ]
    }
   ],
   "source": [
    "SPLIT = int(len(customers_by_day) * .8)\n",
    "\n",
    "for exclude in [\n",
    "    ['customers'],\n",
    "    ['customers', 'ewma']\n",
    "]:\n",
    "    X = customers_by_day[[col for col in customers_by_day.columns if col not in exclude]]\n",
    "    Y = customers_by_day['customers']    \n",
    "\n",
    "    train_x = X[:SPLIT]\n",
    "    train_y = Y[:SPLIT]\n",
    "\n",
    "    test_x = X[SPLIT:]\n",
    "    test_y = Y[SPLIT:]\n",
    "                         \n",
    "    clf = linear_model.LinearRegression()\n",
    "\n",
    "    clf.fit(\n",
    "        train_x, train_y\n",
    "    )\n",
    "\n",
    "    print 'without EWMA: ' if 'ewma' in exclude else 'with EWMA:'\n",
    "    print clf.score(test_x, test_y)\n",
    "    print"
   ]
  },
  {
   "cell_type": "markdown",
   "metadata": {},
   "source": [
    "still far from perfect (1.0) but great improvement with EWMA"
   ]
  },
  {
   "cell_type": "markdown",
   "metadata": {},
   "source": [
    "## Seasonal product recommendation and Outlier detection"
   ]
  },
  {
   "cell_type": "markdown",
   "metadata": {},
   "source": [
    "Popular items on the weekly basis"
   ]
  },
  {
   "cell_type": "code",
   "execution_count": 8,
   "metadata": {
    "collapsed": true
   },
   "outputs": [],
   "source": [
    "full['week'] = full['day'].map(\n",
    "    lambda day: day.weekofyear\n",
    ")"
   ]
  },
  {
   "cell_type": "code",
   "execution_count": 180,
   "metadata": {
    "collapsed": true
   },
   "outputs": [],
   "source": [
    "popular_product = {}"
   ]
  },
  {
   "cell_type": "code",
   "execution_count": 181,
   "metadata": {
    "collapsed": true
   },
   "outputs": [],
   "source": [
    "LIMIT = 100"
   ]
  },
  {
   "cell_type": "code",
   "execution_count": 182,
   "metadata": {
    "collapsed": false
   },
   "outputs": [],
   "source": [
    "for week in full['week'].value_counts().index:\n",
    "    df = full[\n",
    "        full['week'] == week\n",
    "    ]\n",
    "    for code, count in df['product_id'].value_counts().head(LIMIT).iteritems():  # result from value_counts() is sorted \n",
    "        try:\n",
    "            popular_product[code].append(\n",
    "                (week, count)\n",
    "            )\n",
    "        except KeyError:\n",
    "            popular_product[code] = [\n",
    "                (week, count)\n",
    "            ]"
   ]
  },
  {
   "cell_type": "markdown",
   "metadata": {},
   "source": [
    "Find the all-time common ones (appearing more than 8 weeks, about 50% of the period)"
   ]
  },
  {
   "cell_type": "code",
   "execution_count": 183,
   "metadata": {
    "collapsed": true
   },
   "outputs": [],
   "source": [
    "FREQ_THRESHOLD_MAX = 8"
   ]
  },
  {
   "cell_type": "code",
   "execution_count": 184,
   "metadata": {
    "collapsed": false
   },
   "outputs": [],
   "source": [
    "all_time_common_products = []\n",
    "\n",
    "for code, data in popular_product.iteritems():\n",
    "    if len(data) > FREQ_THRESHOLD_MAX:\n",
    "        all_time_common_products.append(code)"
   ]
  },
  {
   "cell_type": "markdown",
   "metadata": {},
   "source": [
    "Find the least common ones (appearing just 1 week)"
   ]
  },
  {
   "cell_type": "code",
   "execution_count": 185,
   "metadata": {
    "collapsed": true
   },
   "outputs": [],
   "source": [
    "FREQ_THRESHOLD_MIN = 1"
   ]
  },
  {
   "cell_type": "code",
   "execution_count": 186,
   "metadata": {
    "collapsed": false
   },
   "outputs": [],
   "source": [
    "least_common_products = []\n",
    "\n",
    "for code, data in popular_product.iteritems():\n",
    "    if len(data) == FREQ_THRESHOLD_MIN:\n",
    "        least_common_products.append(code)"
   ]
  },
  {
   "cell_type": "code",
   "execution_count": 187,
   "metadata": {
    "collapsed": false
   },
   "outputs": [
    {
     "data": {
      "image/png": "[encoded data removed]",
      "text/plain": [
       "<matplotlib.figure.Figure at 0x2400b1d0>"
      ]
     },
     "metadata": {},
     "output_type": "display_data"
    }
   ],
   "source": [
    "ax = plt.gca()\n",
    "\n",
    "for code, data in popular_product.iteritems():\n",
    "    if code not in all_time_common_products and code not in least_common_products:\n",
    "        ax.plot(\n",
    "            [it[0] for it in data],\n",
    "            [it[1] for it in data],\n",
    "            '.'\n",
    "        )"
   ]
  },
  {
   "cell_type": "markdown",
   "metadata": {},
   "source": [
    "### Outlier detection\n",
    "\n",
    "PCA, then EllipticEnvelope and SVM"
   ]
  },
  {
   "cell_type": "code",
   "execution_count": 13,
   "metadata": {
    "collapsed": true
   },
   "outputs": [],
   "source": [
    "from scipy.sparse import csr_matrix\n",
    "\n",
    "from sklearn import svm, decomposition, covariance"
   ]
  },
  {
   "cell_type": "code",
   "execution_count": 9,
   "metadata": {
    "collapsed": true
   },
   "outputs": [],
   "source": [
    "full['day_of_year'] = full['day'].map(\n",
    "    lambda x: x.dayofyear\n",
    ")"
   ]
  },
  {
   "cell_type": "code",
   "execution_count": 10,
   "metadata": {
    "collapsed": false
   },
   "outputs": [
    {
     "data": {
      "text/html": [
       "<div>\n",
       "<table border=\"1\" class=\"dataframe\">\n",
       "  <thead>\n",
       "    <tr style=\"text-align: right;\">\n",
       "      <th></th>\n",
       "      <th>day</th>\n",
       "      <th>customer_id</th>\n",
       "      <th>age_group</th>\n",
       "      <th>residence_area</th>\n",
       "      <th>product_subclass</th>\n",
       "      <th>product_id</th>\n",
       "      <th>amount</th>\n",
       "      <th>asset</th>\n",
       "      <th>sales_price</th>\n",
       "      <th>week</th>\n",
       "      <th>day_of_year</th>\n",
       "    </tr>\n",
       "  </thead>\n",
       "  <tbody>\n",
       "    <tr>\n",
       "      <th>0</th>\n",
       "      <td>2000-11-01</td>\n",
       "      <td>46855</td>\n",
       "      <td>D</td>\n",
       "      <td>E</td>\n",
       "      <td>110411</td>\n",
       "      <td>4.710085e+12</td>\n",
       "      <td>3</td>\n",
       "      <td>51</td>\n",
       "      <td>57</td>\n",
       "      <td>44</td>\n",
       "      <td>306</td>\n",
       "    </tr>\n",
       "    <tr>\n",
       "      <th>1</th>\n",
       "      <td>2000-11-01</td>\n",
       "      <td>539166</td>\n",
       "      <td>E</td>\n",
       "      <td>E</td>\n",
       "      <td>130315</td>\n",
       "      <td>4.714981e+12</td>\n",
       "      <td>2</td>\n",
       "      <td>56</td>\n",
       "      <td>48</td>\n",
       "      <td>44</td>\n",
       "      <td>306</td>\n",
       "    </tr>\n",
       "    <tr>\n",
       "      <th>2</th>\n",
       "      <td>2000-11-01</td>\n",
       "      <td>663373</td>\n",
       "      <td>F</td>\n",
       "      <td>E</td>\n",
       "      <td>110217</td>\n",
       "      <td>4.710266e+12</td>\n",
       "      <td>1</td>\n",
       "      <td>180</td>\n",
       "      <td>135</td>\n",
       "      <td>44</td>\n",
       "      <td>306</td>\n",
       "    </tr>\n",
       "    <tr>\n",
       "      <th>3</th>\n",
       "      <td>2000-11-01</td>\n",
       "      <td>340625</td>\n",
       "      <td>A</td>\n",
       "      <td>E</td>\n",
       "      <td>110411</td>\n",
       "      <td>4.710085e+12</td>\n",
       "      <td>1</td>\n",
       "      <td>17</td>\n",
       "      <td>24</td>\n",
       "      <td>44</td>\n",
       "      <td>306</td>\n",
       "    </tr>\n",
       "    <tr>\n",
       "      <th>4</th>\n",
       "      <td>2000-11-01</td>\n",
       "      <td>236645</td>\n",
       "      <td>D</td>\n",
       "      <td>H</td>\n",
       "      <td>712901</td>\n",
       "      <td>8.999003e+12</td>\n",
       "      <td>2</td>\n",
       "      <td>128</td>\n",
       "      <td>170</td>\n",
       "      <td>44</td>\n",
       "      <td>306</td>\n",
       "    </tr>\n",
       "  </tbody>\n",
       "</table>\n",
       "</div>"
      ],
      "text/plain": [
       "         day  customer_id age_group residence_area  product_subclass  \\\n",
       "0 2000-11-01        46855        D              E             110411   \n",
       "1 2000-11-01       539166        E              E             130315   \n",
       "2 2000-11-01       663373        F              E             110217   \n",
       "3 2000-11-01       340625        A              E             110411   \n",
       "4 2000-11-01       236645        D              H             712901   \n",
       "\n",
       "     product_id  amount  asset  sales_price  week  day_of_year  \n",
       "0  4.710085e+12       3     51           57    44          306  \n",
       "1  4.714981e+12       2     56           48    44          306  \n",
       "2  4.710266e+12       1    180          135    44          306  \n",
       "3  4.710085e+12       1     17           24    44          306  \n",
       "4  8.999003e+12       2    128          170    44          306  "
      ]
     },
     "execution_count": 10,
     "metadata": {},
     "output_type": "execute_result"
    }
   ],
   "source": [
    "full.head()"
   ]
  },
  {
   "cell_type": "markdown",
   "metadata": {},
   "source": [
    "Conver the appearance of product_id into a matrix"
   ]
  },
  {
   "cell_type": "code",
   "execution_count": 11,
   "metadata": {
    "collapsed": true
   },
   "outputs": [],
   "source": [
    "y = []\n",
    "x = []\n",
    "\n",
    "for product_id, data in full.groupby('product_id'):\n",
    "    y.append(product_id)\n",
    "    x.append(\n",
    "        data['day_of_year'].values\n",
    "    )"
   ]
  },
  {
   "cell_type": "markdown",
   "metadata": {},
   "source": [
    "Use sparse matrix for the ease of initialisation"
   ]
  },
  {
   "cell_type": "code",
   "execution_count": 14,
   "metadata": {
    "collapsed": false
   },
   "outputs": [],
   "source": [
    "idx_row = []\n",
    "idx_column = []\n",
    "\n",
    "for idx in x:\n",
    "    idx_row.extend(\n",
    "        [len(idx_row) for _ in idx]\n",
    "    )\n",
    "    idx_column.extend(\n",
    "        idx\n",
    "    )\n",
    "    \n",
    "matrix_x = csr_matrix(\n",
    "    (np.ones(len(idx_row)), (idx_row, idx_column))\n",
    ")    \n",
    "\n",
    "dense_x = matrix_x.toarray()  # PCA requires a dense matrix"
   ]
  },
  {
   "cell_type": "code",
   "execution_count": 18,
   "metadata": {
    "collapsed": true
   },
   "outputs": [],
   "source": [
    "pca = decomposition.PCA(n_components=2)  # high dimension outlier detection is not trivial\n",
    "pca_x = pca.fit_transform(dense_x)"
   ]
  },
  {
   "cell_type": "code",
   "execution_count": 23,
   "metadata": {
    "collapsed": false
   },
   "outputs": [
    {
     "data": {
      "text/plain": [
       "<matplotlib.collections.PathCollection at 0x7f09dbbc7a90>"
      ]
     },
     "execution_count": 23,
     "metadata": {},
     "output_type": "execute_result"
    },
    {
     "data": {
      "image/png": "[encoded data removed]",
      "text/plain": [
       "<matplotlib.figure.Figure at 0x7f0a7271d310>"
      ]
     },
     "metadata": {},
     "output_type": "display_data"
    }
   ],
   "source": [
    "plt.scatter(\n",
    "    [it[0] for it in pca_x],\n",
    "    [it[1] for it in pca_x],\n",
    ")"
   ]
  },
  {
   "cell_type": "markdown",
   "metadata": {},
   "source": [
    "Try `EllipticEnvelope` and `OneClassSVM`, with evaluation and viz"
   ]
  },
  {
   "cell_type": "markdown",
   "metadata": {},
   "source": [
    "#### OneClassSVM"
   ]
  },
  {
   "cell_type": "code",
   "execution_count": null,
   "metadata": {
    "collapsed": true
   },
   "outputs": [],
   "source": [
    "clf = svm.OneClassSVM()\n",
    "clf.fit(pca_x)\n",
    "\n",
    "# OneClassSVM is really a novelty detection algorithm that requires 'pure' training data"
   ]
  },
  {
   "cell_type": "code",
   "execution_count": 32,
   "metadata": {
    "collapsed": false
   },
   "outputs": [
    {
     "data": {
      "text/plain": [
       "{'cache_size': 200,\n",
       " 'coef0': 0.0,\n",
       " 'degree': 3,\n",
       " 'gamma': 'auto',\n",
       " 'kernel': 'rbf',\n",
       " 'max_iter': -1,\n",
       " 'nu': 0.5,\n",
       " 'random_state': None,\n",
       " 'shrinking': True,\n",
       " 'tol': 0.001,\n",
       " 'verbose': False}"
      ]
     },
     "execution_count": 32,
     "metadata": {},
     "output_type": "execute_result"
    }
   ],
   "source": [
    "clf.get_params()"
   ]
  },
  {
   "cell_type": "code",
   "execution_count": 33,
   "metadata": {
    "collapsed": true
   },
   "outputs": [],
   "source": [
    "xx, yy = np.meshgrid(np.linspace(-200, 1600, 500), np.linspace(-600, 1000, 500))"
   ]
  },
  {
   "cell_type": "code",
   "execution_count": null,
   "metadata": {
    "collapsed": false
   },
   "outputs": [],
   "source": [
    "Z = clf.decision_function(np.c_[\n",
    "        xx.ravel(), yy.ravel()\n",
    "    ]).reshape(xx.shape)\n",
    "\n",
    "plt.contour(xx, yy, Z, levels=[0])\n",
    "\n",
    "# takes too long to compute the frontier, skipped"
   ]
  },
  {
   "cell_type": "markdown",
   "metadata": {},
   "source": [
    "#### EllipticEnvelope"
   ]
  },
  {
   "cell_type": "code",
   "execution_count": null,
   "metadata": {
    "collapsed": false
   },
   "outputs": [],
   "source": [
    "clf = covariance.EllipticEnvelope()\n",
    "clf.fit(pca_x)\n",
    "\n",
    "# always gives: \n",
    "# ValueError: Singular covariance matrix.\n",
    "# otherwise should be more robust given the amount of the data"
   ]
  },
  {
   "cell_type": "code",
   "execution_count": null,
   "metadata": {
    "collapsed": true
   },
   "outputs": [],
   "source": [
    "Z = clf.decision_function(np.c_[\n",
    "        xx.ravel(), yy.ravel()\n",
    "    ]).reshape(xx.shape)\n",
    "\n",
    "plt.contour(xx, yy, Z, levels=[0])\n",
    "\n",
    "# cannot create the model, skipped"
   ]
  },
  {
   "cell_type": "markdown",
   "metadata": {},
   "source": [
    "### Purchase prediction"
   ]
  },
  {
   "cell_type": "markdown",
   "metadata": {},
   "source": [
    "The goal is to build a purchase prediction engine."
   ]
  },
  {
   "cell_type": "markdown",
   "metadata": {},
   "source": [
    "The dataset only contains positive samples. We could randomly generate the same number of negative samples (not bought). We want to make sure that for each customer, we have a balanced dataset."
   ]
  },
  {
   "cell_type": "code",
   "execution_count": 110,
   "metadata": {
    "collapsed": true
   },
   "outputs": [],
   "source": [
    "from functools import partial\n",
    "from rosetta.parallel.parallel_easy import imap_easy\n",
    "\n",
    "import itertools"
   ]
  },
  {
   "cell_type": "code",
   "execution_count": 111,
   "metadata": {
    "collapsed": true
   },
   "outputs": [],
   "source": [
    "N_JOBS = 8  # 8 cores"
   ]
  },
  {
   "cell_type": "code",
   "execution_count": 112,
   "metadata": {
    "collapsed": true
   },
   "outputs": [],
   "source": [
    "CHUNKSIZE = int(len(full) / N_JOBS)  # evenly distribute data among cores"
   ]
  },
  {
   "cell_type": "code",
   "execution_count": 30,
   "metadata": {
    "collapsed": false
   },
   "outputs": [],
   "source": [
    "def merge_customer_columns(data):\n",
    "    idx, row = data\n",
    "    return '{:.0f}_{}_{}'.format(row['customer_id'], row['age_group'].strip(), row['residence_area'].strip())\n",
    "\n",
    "def merge_product_columns(data):\n",
    "    idx, row = data\n",
    "    return '{:.0f}_{:.0f}_{:.0f}_{:.0f}'.format(\n",
    "        row['product_subclass'], row['product_id'], row['asset'] / row['amount'], row['sales_price'] / row['amount']\n",
    "    )\n",
    "\n",
    "full['customer'] = pd.Series(\n",
    "    imap_easy(\n",
    "        # ordered=False to avoid extra shuffle \n",
    "        partial(merge_customer_columns), full.iterrows(), n_jobs=N_JOBS, chunksize=CHUNKSIZE, ordered=False  \n",
    "    )\n",
    ")\n",
    "\n",
    "full['product'] = pd.Series(\n",
    "    imap_easy(\n",
    "        partial(merge_product_columns), full.iterrows(), n_jobs=N_JOBS, chunksize=CHUNKSIZE, ordered=False\n",
    "    )\n",
    ")"
   ]
  },
  {
   "cell_type": "code",
   "execution_count": 17,
   "metadata": {
    "collapsed": false
   },
   "outputs": [],
   "source": [
    "days = full['day'].value_counts().index\n",
    "products = full['product'].value_counts().index"
   ]
  },
  {
   "cell_type": "code",
   "execution_count": 18,
   "metadata": {
    "collapsed": true
   },
   "outputs": [],
   "source": [
    "def get_a_random_row():\n",
    "    return np.random.choice(days), np.random.choice(products)"
   ]
  },
  {
   "cell_type": "code",
   "execution_count": 35,
   "metadata": {
    "collapsed": false
   },
   "outputs": [],
   "source": [
    "# the usage of `full` stops here. persist for easier access in future\n",
    "full.to_csv('full_product_customer_merged.csv', index=False)  "
   ]
  },
  {
   "cell_type": "markdown",
   "metadata": {},
   "source": [
    "Positive samples, Ravel `amount` to multiple rows"
   ]
  },
  {
   "cell_type": "code",
   "execution_count": 41,
   "metadata": {
    "collapsed": true
   },
   "outputs": [],
   "source": [
    "def ravel_amount(data):\n",
    "    idx, row = data\n",
    "    return [\n",
    "        {'day': row['day'], 'product': row['product'], 'customer': row['customer'], 'buy': 1} \n",
    "        for _ in range(int(row['amount'])-1)\n",
    "    ]"
   ]
  },
  {
   "cell_type": "code",
   "execution_count": 55,
   "metadata": {
    "collapsed": false
   },
   "outputs": [],
   "source": [
    "flat_full = pd.DataFrame(\n",
    "    # DataFrame doesn't allow passing in a generator\n",
    "    # this may not fit into the memory for larger datasets\n",
    "    list(itertools.chain.from_iterable(imap_easy(\n",
    "        partial(ravel_amount), full.iterrows(), n_jobs=N_JOBS, chunksize=CHUNKSIZE, ordered=False\n",
    "    )))\n",
    ")"
   ]
  },
  {
   "cell_type": "markdown",
   "metadata": {},
   "source": [
    "Negative samples (ignore the case that we randomly generate a positive sample)"
   ]
  },
  {
   "cell_type": "code",
   "execution_count": 47,
   "metadata": {
    "collapsed": true
   },
   "outputs": [],
   "source": [
    "def generate_negative_samples_for_customer(data):\n",
    "    customer, row = data\n",
    "    ret = []\n",
    "    # generate the same amount of negative samples as positive ones\n",
    "    # don't iterate over row directly --- that will iterate columns, not rows\n",
    "    for _ in range(len(row)):  \n",
    "        day, product = get_a_random_row()\n",
    "        ret.append({'day': day, 'product': product, 'customer': customer, 'buy': 0})\n",
    "    return ret"
   ]
  },
  {
   "cell_type": "code",
   "execution_count": 48,
   "metadata": {
    "collapsed": false
   },
   "outputs": [],
   "source": [
    "flat_full = pd.concat([\n",
    "    flat_full, pd.DataFrame(\n",
    "        list(itertools.chain.from_iterable(\n",
    "            imap_easy(generate_negative_samples_for_customer, flat_full.groupby('customer'), n_jobs=N_JOBS, chunksize=CHUNKSIZE)\n",
    "        ))\n",
    "    )\n",
    "], axis=0)"
   ]
  },
  {
   "cell_type": "code",
   "execution_count": 49,
   "metadata": {
    "collapsed": false
   },
   "outputs": [
    {
     "data": {
      "text/plain": [
       "1    312198\n",
       "0    312198\n",
       "Name: buy, dtype: int64"
      ]
     },
     "execution_count": 49,
     "metadata": {},
     "output_type": "execute_result"
    }
   ],
   "source": [
    "flat_full['buy'].value_counts()  # make sure the balance"
   ]
  },
  {
   "cell_type": "markdown",
   "metadata": {},
   "source": [
    "Split so we can build features"
   ]
  },
  {
   "cell_type": "code",
   "execution_count": null,
   "metadata": {
    "collapsed": true
   },
   "outputs": [],
   "source": [
    "CHUNKSIZE = int(len(flat_full) / N_JOBS)"
   ]
  },
  {
   "cell_type": "code",
   "execution_count": 62,
   "metadata": {
    "collapsed": false
   },
   "outputs": [],
   "source": [
    "def split_and_get(data, idx, sep='_'):\n",
    "    return data[1].split(sep)[idx]        \n",
    "\n",
    "for idx, key in enumerate(['product_subclass', 'product_id', 'asset', 'sales_price']):\n",
    "    flat_full[key] = pd.Series(\n",
    "        imap_easy(partial(split_and_get, idx=idx), flat_full['product'].iteritems(), N_JOBS, CHUNKSIZE)\n",
    "    )\n",
    "    \n",
    "for idx, key in enumerate(['customer_id', 'age_group', 'residence_area']):\n",
    "    flat_full[key] = pd.Series(\n",
    "        imap_easy(partial(split_and_get, idx=idx), flat_full['customer'].iteritems(), N_JOBS, CHUNKSIZE)\n",
    "    )\n"
   ]
  },
  {
   "cell_type": "markdown",
   "metadata": {},
   "source": [
    "Basic transformation on `day` only"
   ]
  },
  {
   "cell_type": "code",
   "execution_count": 51,
   "metadata": {
    "collapsed": false
   },
   "outputs": [],
   "source": [
    "# should be fast enough, skip the parallelism\n",
    "\n",
    "flat_full['week_of_year'] = flat_full['day'].map(lambda x: x.week)\n",
    "flat_full['day_of_week'] = flat_full['day'].map(lambda x: x.dayofweek)\n",
    "flat_full['day_of_year'] = flat_full['day'].map(lambda x: x.dayofyear)"
   ]
  },
  {
   "cell_type": "code",
   "execution_count": 52,
   "metadata": {
    "collapsed": true
   },
   "outputs": [],
   "source": [
    "flat_full.to_csv('flat_full_with_basic_transformation.csv', index=False)"
   ]
  },
  {
   "cell_type": "markdown",
   "metadata": {},
   "source": [
    "Build features"
   ]
  },
  {
   "cell_type": "code",
   "execution_count": 33,
   "metadata": {
    "collapsed": false
   },
   "outputs": [],
   "source": [
    "from sklearn.feature_extraction import DictVectorizer"
   ]
  },
  {
   "cell_type": "code",
   "execution_count": 34,
   "metadata": {
    "collapsed": false
   },
   "outputs": [],
   "source": [
    "enc = DictVectorizer()"
   ]
  },
  {
   "cell_type": "code",
   "execution_count": 53,
   "metadata": {
    "collapsed": true
   },
   "outputs": [],
   "source": [
    "# be specific about features if possible\n",
    "\n",
    "feature_columns = [\n",
    "    'customer',  # keep the 2nd level features\n",
    "    'customer_id', 'age_group', 'residence_area',\n",
    "    'product',\n",
    "    'product_subclass', 'product_id', 'asset', 'sales_price',\n",
    "    'week_of_year', 'day_of_week', 'day_of_year', 'day'\n",
    "]"
   ]
  },
  {
   "cell_type": "code",
   "execution_count": null,
   "metadata": {
    "collapsed": false
   },
   "outputs": [],
   "source": [
    "x = enc.fit_transform(flat_full[feature_columns].to_dict(orient='records'))"
   ]
  },
  {
   "cell_type": "code",
   "execution_count": 57,
   "metadata": {
    "collapsed": false
   },
   "outputs": [],
   "source": [
    "feature_names = enc.get_feature_names()"
   ]
  },
  {
   "cell_type": "code",
   "execution_count": 58,
   "metadata": {
    "collapsed": true
   },
   "outputs": [],
   "source": [
    "y = flat_full['buy'].values"
   ]
  },
  {
   "cell_type": "markdown",
   "metadata": {},
   "source": [
    "#### Simple test on shuffles"
   ]
  },
  {
   "cell_type": "code",
   "execution_count": 77,
   "metadata": {
    "collapsed": true
   },
   "outputs": [],
   "source": [
    "# use a few basic models to demonstrate the idea\n",
    "# cv need to be added\n",
    "\n",
    "from sklearn.linear_model import LogisticRegression, Lasso\n",
    "from sklearn.ensemble import RandomForestClassifier\n",
    "from sklearn.utils import shuffle"
   ]
  },
  {
   "cell_type": "code",
   "execution_count": 78,
   "metadata": {
    "collapsed": false
   },
   "outputs": [],
   "source": [
    "x, y = shuffle(x, y)"
   ]
  },
  {
   "cell_type": "code",
   "execution_count": 79,
   "metadata": {
    "collapsed": false
   },
   "outputs": [],
   "source": [
    "SPLIT = int(x.shape[0] * .8)\n",
    "\n",
    "train_x = x[:SPLIT]\n",
    "train_y = y[:SPLIT]\n",
    "\n",
    "test_x = x[SPLIT:]\n",
    "test_y = y[SPLIT:]"
   ]
  },
  {
   "cell_type": "code",
   "execution_count": 80,
   "metadata": {
    "collapsed": false
   },
   "outputs": [
    {
     "name": "stdout",
     "output_type": "stream",
     "text": [
      "LogisticRegression\n",
      "0.499423446509\n",
      "\n",
      "Lasso\n",
      "-2.69107928563e-06\n",
      "\n",
      "RandomForest\n",
      "0.406726457399\n",
      "\n"
     ]
    }
   ],
   "source": [
    "for name, clf in [\n",
    "    ('LogisticRegression', LogisticRegression()),\n",
    "    ('Lasso', Lasso()),\n",
    "    ('RandomForest', RandomForestClassifier())\n",
    "]:\n",
    "    \n",
    "    \n",
    "    clf.fit(train_x, train_y)\n",
    "    \n",
    "    print name\n",
    "    print clf.score(test_x, test_y)\n",
    "    print"
   ]
  },
  {
   "cell_type": "markdown",
   "metadata": {},
   "source": [
    "### Product recommendation\n",
    "\n",
    "User based"
   ]
  },
  {
   "cell_type": "code",
   "execution_count": 101,
   "metadata": {
    "collapsed": true
   },
   "outputs": [],
   "source": [
    "customer_bought_products = full[['customer_id', 'product_id', 'amount']]"
   ]
  },
  {
   "cell_type": "markdown",
   "metadata": {},
   "source": [
    "Ignore the recency and aggregate the purchase history"
   ]
  },
  {
   "cell_type": "code",
   "execution_count": 103,
   "metadata": {
    "collapsed": true
   },
   "outputs": [],
   "source": [
    "aggregated = customer_bought_products.groupby(['customer_id', 'product_id']).sum()"
   ]
  },
  {
   "cell_type": "code",
   "execution_count": 107,
   "metadata": {
    "collapsed": false
   },
   "outputs": [],
   "source": [
    "aggregated.reset_index(inplace=True)"
   ]
  },
  {
   "cell_type": "code",
   "execution_count": 113,
   "metadata": {
    "collapsed": true
   },
   "outputs": [],
   "source": [
    "def concat_product_amount(data):\n",
    "    idx, row = data\n",
    "    return '{:.0f}_{:.0f}'.format(row['product_id'], row['amount'])\n",
    "\n",
    "aggregated['product_amount'] = pd.Series(\n",
    "    imap_easy(concat_product_amount, aggregated[['product_id', 'amount']].iterrows(), N_JOBS, CHUNKSIZE)\n",
    ")"
   ]
  },
  {
   "cell_type": "code",
   "execution_count": 115,
   "metadata": {
    "collapsed": true
   },
   "outputs": [],
   "source": [
    "del aggregated['product_id']\n",
    "del aggregated['amount']"
   ]
  },
  {
   "cell_type": "code",
   "execution_count": 117,
   "metadata": {
    "collapsed": false
   },
   "outputs": [
    {
     "data": {
      "text/html": [
       "<div>\n",
       "<table border=\"1\" class=\"dataframe\">\n",
       "  <thead>\n",
       "    <tr style=\"text-align: right;\">\n",
       "      <th></th>\n",
       "      <th>customer_id</th>\n",
       "      <th>product_amount</th>\n",
       "    </tr>\n",
       "  </thead>\n",
       "  <tbody>\n",
       "    <tr>\n",
       "      <th>0</th>\n",
       "      <td>1069</td>\n",
       "      <td>22000167620_2</td>\n",
       "    </tr>\n",
       "    <tr>\n",
       "      <th>1</th>\n",
       "      <td>1069</td>\n",
       "      <td>4710011402026_2</td>\n",
       "    </tr>\n",
       "    <tr>\n",
       "      <th>2</th>\n",
       "      <td>1069</td>\n",
       "      <td>4710022101208_1</td>\n",
       "    </tr>\n",
       "    <tr>\n",
       "      <th>3</th>\n",
       "      <td>1069</td>\n",
       "      <td>4710088620156_2</td>\n",
       "    </tr>\n",
       "    <tr>\n",
       "      <th>4</th>\n",
       "      <td>1069</td>\n",
       "      <td>4710176008699_2</td>\n",
       "    </tr>\n",
       "  </tbody>\n",
       "</table>\n",
       "</div>"
      ],
      "text/plain": [
       "   customer_id   product_amount\n",
       "0         1069    22000167620_2\n",
       "1         1069  4710011402026_2\n",
       "2         1069  4710022101208_1\n",
       "3         1069  4710088620156_2\n",
       "4         1069  4710176008699_2"
      ]
     },
     "execution_count": 117,
     "metadata": {},
     "output_type": "execute_result"
    }
   ],
   "source": [
    "aggregated.head()"
   ]
  },
  {
   "cell_type": "markdown",
   "metadata": {},
   "source": [
    "Build user vectors"
   ]
  },
  {
   "cell_type": "code",
   "execution_count": 128,
   "metadata": {
    "collapsed": true
   },
   "outputs": [],
   "source": [
    "enc = DictVectorizer()"
   ]
  },
  {
   "cell_type": "code",
   "execution_count": 140,
   "metadata": {
    "collapsed": false
   },
   "outputs": [],
   "source": [
    "x = enc.fit_transform(aggregated[['product_amount', ]].to_dict(orient='record'))"
   ]
  },
  {
   "cell_type": "code",
   "execution_count": 141,
   "metadata": {
    "collapsed": false
   },
   "outputs": [],
   "source": [
    "feature_names = enc.get_feature_names()"
   ]
  },
  {
   "cell_type": "code",
   "execution_count": null,
   "metadata": {
    "collapsed": false
   },
   "outputs": [],
   "source": [
    "x = pd.SparseDataFrame(\n",
    "    [pd.SparseSeries(x[idx].toarray().ravel()) for idx in np.arange(x.shape[0])],\n",
    "    columns=feature_names\n",
    ")"
   ]
  },
  {
   "cell_type": "code",
   "execution_count": 146,
   "metadata": {
    "collapsed": false
   },
   "outputs": [
    {
     "data": {
      "text/plain": [
       "<743228x57913 sparse matrix of type '<type 'numpy.float64'>'\n",
       "\twith 743228 stored elements in Compressed Sparse Row format>"
      ]
     },
     "execution_count": 146,
     "metadata": {},
     "output_type": "execute_result"
    }
   ],
   "source": [
    "x['customer_id'] = aggregated['customer_id']"
   ]
  },
  {
   "cell_type": "code",
   "execution_count": null,
   "metadata": {
    "collapsed": true
   },
   "outputs": [],
   "source": [
    "x = x.groupby('customer_id').sum()"
   ]
  },
  {
   "cell_type": "markdown",
   "metadata": {},
   "source": [
    "Build NearestNeighbors model"
   ]
  },
  {
   "cell_type": "code",
   "execution_count": null,
   "metadata": {
    "collapsed": true
   },
   "outputs": [],
   "source": [
    "from sklearn.neighbors import NearestNeighbors"
   ]
  },
  {
   "cell_type": "code",
   "execution_count": null,
   "metadata": {
    "collapsed": true
   },
   "outputs": [],
   "source": [
    "nbrs = NearestNeighbors(n_neighbors=4).fit(x)"
   ]
  },
  {
   "cell_type": "markdown",
   "metadata": {},
   "source": [
    "Query the model, take average as recommendations"
   ]
  },
  {
   "cell_type": "code",
   "execution_count": null,
   "metadata": {
    "collapsed": true
   },
   "outputs": [],
   "source": []
  }
 ],
 "metadata": {
  "kernelspec": {
   "display_name": "Python 2",
   "language": "python",
   "name": "python2"
  },
  "language_info": {
   "codemirror_mode": {
    "name": "ipython",
    "version": 2
   },
   "file_extension": ".py",
   "mimetype": "text/x-python",
   "name": "python",
   "nbconvert_exporter": "python",
   "pygments_lexer": "ipython2",
   "version": "2.7.11"
  }
 },
 "nbformat": 4,
 "nbformat_minor": 0
}
