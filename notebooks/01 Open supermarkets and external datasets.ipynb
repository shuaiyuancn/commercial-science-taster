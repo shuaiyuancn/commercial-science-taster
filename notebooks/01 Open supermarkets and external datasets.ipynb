{
 "cells": [
  {
   "cell_type": "markdown",
   "metadata": {},
   "source": [
    "http://geolytix.co.uk/blog/category/open-data/supermarket-locations/"
   ]
  },
  {
   "cell_type": "code",
   "execution_count": 3,
   "metadata": {
    "collapsed": true
   },
   "outputs": [],
   "source": [
    "import os\n",
    "\n",
    "import pandas as pd\n",
    "import numpy as np\n",
    "import matplotlib.pyplot as plt\n",
    "\n",
    "import seaborn"
   ]
  },
  {
   "cell_type": "code",
   "execution_count": 4,
   "metadata": {
    "collapsed": true
   },
   "outputs": [],
   "source": [
    "%matplotlib inline"
   ]
  },
  {
   "cell_type": "code",
   "execution_count": 5,
   "metadata": {
    "collapsed": true
   },
   "outputs": [],
   "source": [
    "font = {'family' : 'monospace',\n",
    "        'weight' : 'bold',\n",
    "        'size'   : 14}\n",
    "\n",
    "plt.rc('font', **font)\n",
    "plt.rc('figure', figsize=(18, 6))"
   ]
  },
  {
   "cell_type": "code",
   "execution_count": 6,
   "metadata": {
    "collapsed": true
   },
   "outputs": [],
   "source": [
    "os.chdir('../datasets/open-supermarkets/')"
   ]
  },
  {
   "cell_type": "code",
   "execution_count": 8,
   "metadata": {
    "collapsed": false
   },
   "outputs": [],
   "source": [
    "supermarkets = pd.read_csv('GeoLytixOpenSupermarketLocationsSept2015v6.txt', sep='\\t')"
   ]
  },
  {
   "cell_type": "code",
   "execution_count": 9,
   "metadata": {
    "collapsed": false
   },
   "outputs": [
    {
     "data": {
      "text/html": [
       "<div>\n",
       "<table border=\"1\" class=\"dataframe\">\n",
       "  <thead>\n",
       "    <tr style=\"text-align: right;\">\n",
       "      <th></th>\n",
       "      <th>GLUID</th>\n",
       "      <th>Retailer</th>\n",
       "      <th>Fascia</th>\n",
       "      <th>StoreName</th>\n",
       "      <th>Add1</th>\n",
       "      <th>Add2</th>\n",
       "      <th>Town</th>\n",
       "      <th>Locality</th>\n",
       "      <th>Postcode</th>\n",
       "      <th>LongWGS84</th>\n",
       "      <th>LatWGS84</th>\n",
       "      <th>EastingBNG</th>\n",
       "      <th>NorthingBNG</th>\n",
       "      <th>PQIflag</th>\n",
       "      <th>OpenDate</th>\n",
       "    </tr>\n",
       "  </thead>\n",
       "  <tbody>\n",
       "    <tr>\n",
       "      <th>0</th>\n",
       "      <td>1010000001</td>\n",
       "      <td>Aldi</td>\n",
       "      <td>Aldi</td>\n",
       "      <td>Aldi Aberdeen</td>\n",
       "      <td>Unit 9-10 Boulevard Retail Park</td>\n",
       "      <td>NaN</td>\n",
       "      <td>Aberdeen</td>\n",
       "      <td>Central Aberdeen</td>\n",
       "      <td>AB115EJ</td>\n",
       "      <td>-2.081710</td>\n",
       "      <td>57.1487</td>\n",
       "      <td>395153.81</td>\n",
       "      <td>806418.66</td>\n",
       "      <td>1</td>\n",
       "      <td>NaN</td>\n",
       "    </tr>\n",
       "    <tr>\n",
       "      <th>1</th>\n",
       "      <td>1010000002</td>\n",
       "      <td>Aldi</td>\n",
       "      <td>Aldi</td>\n",
       "      <td>Aldi Westhill</td>\n",
       "      <td>Westhill Drive</td>\n",
       "      <td>NaN</td>\n",
       "      <td>Westhill</td>\n",
       "      <td>NaN</td>\n",
       "      <td>AB326FY</td>\n",
       "      <td>-2.278330</td>\n",
       "      <td>57.1549</td>\n",
       "      <td>383260.14</td>\n",
       "      <td>807138.54</td>\n",
       "      <td>1</td>\n",
       "      <td>NaN</td>\n",
       "    </tr>\n",
       "    <tr>\n",
       "      <th>2</th>\n",
       "      <td>1010000003</td>\n",
       "      <td>Aldi</td>\n",
       "      <td>Aldi</td>\n",
       "      <td>Aldi Ellon</td>\n",
       "      <td>Ythan Terrace</td>\n",
       "      <td>NaN</td>\n",
       "      <td>Ellon</td>\n",
       "      <td>NaN</td>\n",
       "      <td>AB419LJ</td>\n",
       "      <td>-2.074990</td>\n",
       "      <td>57.3634</td>\n",
       "      <td>395586.81</td>\n",
       "      <td>830317.99</td>\n",
       "      <td>1</td>\n",
       "      <td>NaN</td>\n",
       "    </tr>\n",
       "    <tr>\n",
       "      <th>3</th>\n",
       "      <td>1010000004</td>\n",
       "      <td>Aldi</td>\n",
       "      <td>Aldi</td>\n",
       "      <td>Aldi Inverurie</td>\n",
       "      <td>Loco Works Road</td>\n",
       "      <td>NaN</td>\n",
       "      <td>Inverurie</td>\n",
       "      <td>NaN</td>\n",
       "      <td>AB514FY</td>\n",
       "      <td>-2.378360</td>\n",
       "      <td>57.2895</td>\n",
       "      <td>377291.63</td>\n",
       "      <td>822150.23</td>\n",
       "      <td>1</td>\n",
       "      <td>NaN</td>\n",
       "    </tr>\n",
       "    <tr>\n",
       "      <th>4</th>\n",
       "      <td>1010000005</td>\n",
       "      <td>Aldi</td>\n",
       "      <td>Aldi</td>\n",
       "      <td>Aldi Hatfield</td>\n",
       "      <td>11 Parkhouse Court</td>\n",
       "      <td>Comet Way</td>\n",
       "      <td>Hatfield</td>\n",
       "      <td>Hatfield</td>\n",
       "      <td>AL109RQ</td>\n",
       "      <td>-0.240931</td>\n",
       "      <td>51.7631</td>\n",
       "      <td>521491.85</td>\n",
       "      <td>208626.72</td>\n",
       "      <td>1</td>\n",
       "      <td>NaN</td>\n",
       "    </tr>\n",
       "  </tbody>\n",
       "</table>\n",
       "</div>"
      ],
      "text/plain": [
       "        GLUID Retailer Fascia       StoreName  \\\n",
       "0  1010000001     Aldi   Aldi   Aldi Aberdeen   \n",
       "1  1010000002     Aldi   Aldi   Aldi Westhill   \n",
       "2  1010000003     Aldi   Aldi      Aldi Ellon   \n",
       "3  1010000004     Aldi   Aldi  Aldi Inverurie   \n",
       "4  1010000005     Aldi   Aldi   Aldi Hatfield   \n",
       "\n",
       "                              Add1       Add2       Town          Locality  \\\n",
       "0  Unit 9-10 Boulevard Retail Park        NaN   Aberdeen  Central Aberdeen   \n",
       "1                   Westhill Drive        NaN   Westhill               NaN   \n",
       "2                    Ythan Terrace        NaN      Ellon               NaN   \n",
       "3                  Loco Works Road        NaN  Inverurie               NaN   \n",
       "4               11 Parkhouse Court  Comet Way   Hatfield          Hatfield   \n",
       "\n",
       "  Postcode  LongWGS84  LatWGS84  EastingBNG  NorthingBNG  PQIflag OpenDate  \n",
       "0  AB115EJ  -2.081710   57.1487   395153.81    806418.66        1      NaN  \n",
       "1  AB326FY  -2.278330   57.1549   383260.14    807138.54        1      NaN  \n",
       "2  AB419LJ  -2.074990   57.3634   395586.81    830317.99        1      NaN  \n",
       "3  AB514FY  -2.378360   57.2895   377291.63    822150.23        1      NaN  \n",
       "4  AL109RQ  -0.240931   51.7631   521491.85    208626.72        1      NaN  "
      ]
     },
     "execution_count": 9,
     "metadata": {},
     "output_type": "execute_result"
    }
   ],
   "source": [
    "supermarkets.head()"
   ]
  },
  {
   "cell_type": "markdown",
   "metadata": {},
   "source": [
    "### Visualise"
   ]
  },
  {
   "cell_type": "code",
   "execution_count": 28,
   "metadata": {
    "collapsed": false
   },
   "outputs": [
    {
     "data": {
      "text/plain": [
       "<Container object of 10 artists>"
      ]
     },
     "execution_count": 28,
     "metadata": {},
     "output_type": "execute_result"
    },
    {
     "data": {
      "image/png": "[encoded data removed]",
      "text/plain": [
       "<matplotlib.figure.Figure at 0xc8f64a8>"
      ]
     },
     "metadata": {},
     "output_type": "display_data"
    }
   ],
   "source": [
    "vc = supermarkets['Retailer'].value_counts()[:10]  # keep the top-10\n",
    "\n",
    "idx = np.arange(len(vc.index))\n",
    "plt.bar(\n",
    "    idx, vc.values, tick_label=vc.index, align='center'\n",
    ")"
   ]
  },
  {
   "cell_type": "code",
   "execution_count": 24,
   "metadata": {
    "collapsed": false
   },
   "outputs": [],
   "source": [
    "from ipywidgets import HTML\n",
    "\n",
    "HTML('<iframe width=\"100%\" height=\"520\" frameborder=\"0\" '\n",
    "     'src=\"https://additionplus.cartodb.com/viz/cf091c2c-d4f0-11e5-a5e6-0ef24382571b/embed_map\" '\n",
    "     'allowfullscreen webkitallowfullscreen mozallowfullscreen oallowfullscreen msallowfullscreen legend'\n",
    "     '></iframe>')"
   ]
  },
  {
   "cell_type": "markdown",
   "metadata": {},
   "source": [
    "### Enrich with the regional labour market data\n",
    "\n",
    "[Regional labour market: LI02 - Local indicators for parliamentary constituencies, January 2016 (Excel sheet 314Kb)](http://www.ons.gov.uk/ons/rel/subnational-labour/regional-labour-market-statistics/january-2016/rft-lm-table-li02-january-2016.xls)"
   ]
  },
  {
   "cell_type": "code",
   "execution_count": 40,
   "metadata": {
    "collapsed": true
   },
   "outputs": [],
   "source": [
    "labour_market = pd.read_csv('regional_labour_market_li02_2016-01.csv').dropna()"
   ]
  },
  {
   "cell_type": "code",
   "execution_count": 42,
   "metadata": {
    "collapsed": false
   },
   "outputs": [
    {
     "data": {
      "text/html": [
       "<div>\n",
       "<table border=\"1\" class=\"dataframe\">\n",
       "  <thead>\n",
       "    <tr style=\"text-align: right;\">\n",
       "      <th></th>\n",
       "      <th>region_code</th>\n",
       "      <th>region</th>\n",
       "      <th>population</th>\n",
       "      <th>employment_total</th>\n",
       "      <th>employment_under_64</th>\n",
       "      <th>unemployment_total</th>\n",
       "      <th>unemployment_total_rate</th>\n",
       "      <th>economic_inactivity_total</th>\n",
       "      <th>economic_inactivity_under_64</th>\n",
       "      <th>claimant_level</th>\n",
       "      <th>claimant_proportion</th>\n",
       "      <th>labour_demand_total</th>\n",
       "      <th>labour_demand_job_density_under_64</th>\n",
       "    </tr>\n",
       "  </thead>\n",
       "  <tbody>\n",
       "    <tr>\n",
       "      <th>0</th>\n",
       "      <td>K02000001</td>\n",
       "      <td>UNITED KINGDOM</td>\n",
       "      <td>41,037</td>\n",
       "      <td>30,935</td>\n",
       "      <td>73.2</td>\n",
       "      <td>1,784</td>\n",
       "      <td>5.5</td>\n",
       "      <td>9,142</td>\n",
       "      <td>22.5</td>\n",
       "      <td>831,440</td>\n",
       "      <td>2.0</td>\n",
       "      <td>32,488</td>\n",
       "      <td>0.79</td>\n",
       "    </tr>\n",
       "    <tr>\n",
       "      <th>2</th>\n",
       "      <td>K03000001</td>\n",
       "      <td>GREAT BRITAIN</td>\n",
       "      <td>39,866</td>\n",
       "      <td>30,120</td>\n",
       "      <td>73.4</td>\n",
       "      <td>1,731</td>\n",
       "      <td>5.4</td>\n",
       "      <td>8,819</td>\n",
       "      <td>22.3</td>\n",
       "      <td>785,600</td>\n",
       "      <td>2.0</td>\n",
       "      <td>31,654</td>\n",
       "      <td>0.80</td>\n",
       "    </tr>\n",
       "    <tr>\n",
       "      <th>4</th>\n",
       "      <td>E92000001</td>\n",
       "      <td>ENGLAND</td>\n",
       "      <td>34,475</td>\n",
       "      <td>26,144</td>\n",
       "      <td>73.6</td>\n",
       "      <td>1,472</td>\n",
       "      <td>5.3</td>\n",
       "      <td>7,587</td>\n",
       "      <td>22.2</td>\n",
       "      <td>657,638</td>\n",
       "      <td>1.9</td>\n",
       "      <td>27,616</td>\n",
       "      <td>0.80</td>\n",
       "    </tr>\n",
       "    <tr>\n",
       "      <th>6</th>\n",
       "      <td>E12000001</td>\n",
       "      <td>NORTH EAST</td>\n",
       "      <td>1,663</td>\n",
       "      <td>1,176</td>\n",
       "      <td>69.2</td>\n",
       "      <td>96</td>\n",
       "      <td>7.6</td>\n",
       "      <td>415</td>\n",
       "      <td>25.1</td>\n",
       "      <td>49,176</td>\n",
       "      <td>3.0</td>\n",
       "      <td>1,133</td>\n",
       "      <td>0.68</td>\n",
       "    </tr>\n",
       "    <tr>\n",
       "      <th>8</th>\n",
       "      <td>E14000554</td>\n",
       "      <td>Berwick-upon-Tweed</td>\n",
       "      <td>45</td>\n",
       "      <td>34</td>\n",
       "      <td>75.0</td>\n",
       "      <td>1</td>\n",
       "      <td>3.7</td>\n",
       "      <td>9</td>\n",
       "      <td>21.9</td>\n",
       "      <td>768</td>\n",
       "      <td>1.7</td>\n",
       "      <td>29</td>\n",
       "      <td>0.63</td>\n",
       "    </tr>\n",
       "  </tbody>\n",
       "</table>\n",
       "</div>"
      ],
      "text/plain": [
       "  region_code              region population employment_total  \\\n",
       "0   K02000001      UNITED KINGDOM     41,037           30,935   \n",
       "2   K03000001       GREAT BRITAIN     39,866           30,120   \n",
       "4   E92000001             ENGLAND     34,475           26,144   \n",
       "6   E12000001          NORTH EAST      1,663            1,176   \n",
       "8   E14000554  Berwick-upon-Tweed         45               34   \n",
       "\n",
       "   employment_under_64 unemployment_total unemployment_total_rate  \\\n",
       "0                 73.2              1,784                     5.5   \n",
       "2                 73.4              1,731                     5.4   \n",
       "4                 73.6              1,472                     5.3   \n",
       "6                 69.2                 96                     7.6   \n",
       "8                 75.0                  1                     3.7   \n",
       "\n",
       "  economic_inactivity_total  economic_inactivity_under_64 claimant_level  \\\n",
       "0                     9,142                          22.5        831,440   \n",
       "2                     8,819                          22.3        785,600   \n",
       "4                     7,587                          22.2        657,638   \n",
       "6                       415                          25.1         49,176   \n",
       "8                         9                          21.9            768   \n",
       "\n",
       "   claimant_proportion labour_demand_total labour_demand_job_density_under_64  \n",
       "0                  2.0              32,488                               0.79  \n",
       "2                  2.0              31,654                               0.80  \n",
       "4                  1.9              27,616                               0.80  \n",
       "6                  3.0               1,133                               0.68  \n",
       "8                  1.7                  29                               0.63  "
      ]
     },
     "execution_count": 42,
     "metadata": {},
     "output_type": "execute_result"
    }
   ],
   "source": [
    "labour_market.head()"
   ]
  },
  {
   "cell_type": "markdown",
   "metadata": {},
   "source": [
    "Join on town"
   ]
  },
  {
   "cell_type": "code",
   "execution_count": 46,
   "metadata": {
    "collapsed": false
   },
   "outputs": [],
   "source": [
    "joined = supermarkets.merge(labour_market, left_on='Town', right_on='region', how='outer')"
   ]
  },
  {
   "cell_type": "code",
   "execution_count": 51,
   "metadata": {
    "collapsed": false
   },
   "outputs": [
    {
     "data": {
      "text/html": [
       "<div>\n",
       "<table border=\"1\" class=\"dataframe\">\n",
       "  <thead>\n",
       "    <tr style=\"text-align: right;\">\n",
       "      <th></th>\n",
       "      <th>region_code</th>\n",
       "      <th>region</th>\n",
       "      <th>population</th>\n",
       "      <th>employment_total</th>\n",
       "      <th>employment_under_64</th>\n",
       "      <th>unemployment_total</th>\n",
       "      <th>unemployment_total_rate</th>\n",
       "      <th>economic_inactivity_total</th>\n",
       "      <th>economic_inactivity_under_64</th>\n",
       "      <th>claimant_level</th>\n",
       "      <th>claimant_proportion</th>\n",
       "      <th>labour_demand_total</th>\n",
       "      <th>labour_demand_job_density_under_64</th>\n",
       "    </tr>\n",
       "  </thead>\n",
       "  <tbody>\n",
       "  </tbody>\n",
       "</table>\n",
       "</div>"
      ],
      "text/plain": [
       "Empty DataFrame\n",
       "Columns: [region_code, region, population, employment_total, employment_under_64, unemployment_total, unemployment_total_rate, economic_inactivity_total, economic_inactivity_under_64, claimant_level, claimant_proportion, labour_demand_total, labour_demand_job_density_under_64]\n",
       "Index: []"
      ]
     },
     "execution_count": 51,
     "metadata": {},
     "output_type": "execute_result"
    }
   ],
   "source": [
    "labour_market[labour_market['region'] == 'Hatfield']"
   ]
  }
 ],
 "metadata": {
  "kernelspec": {
   "display_name": "Python 2",
   "language": "python",
   "name": "python2"
  },
  "language_info": {
   "codemirror_mode": {
    "name": "ipython",
    "version": 2
   },
   "file_extension": ".py",
   "mimetype": "text/x-python",
   "name": "python",
   "nbconvert_exporter": "python",
   "pygments_lexer": "ipython2",
   "version": "2.7.10"
  }
 },
 "nbformat": 4,
 "nbformat_minor": 0
}
